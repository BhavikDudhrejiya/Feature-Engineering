{
  "nbformat": 4,
  "nbformat_minor": 0,
  "metadata": {
    "colab": {
      "name": "2. How Cardinality used to improve model .ipynb",
      "provenance": [],
      "collapsed_sections": [],
      "authorship_tag": "ABX9TyPlGKyMUnxjfelhu0VuYAQ3",
      "include_colab_link": true
    },
    "kernelspec": {
      "name": "python3",
      "display_name": "Python 3"
    },
    "language_info": {
      "name": "python"
    }
  },
  "cells": [
    {
      "cell_type": "markdown",
      "metadata": {
        "id": "view-in-github",
        "colab_type": "text"
      },
      "source": [
        "<a href=\"https://colab.research.google.com/github/BhavikDudhrejiya/Feature-Engineering/blob/main/2_How_Cardinality_used_to_improve_model_.ipynb\" target=\"_parent\"><img src=\"https://colab.research.google.com/assets/colab-badge.svg\" alt=\"Open In Colab\"/></a>"
      ]
    },
    {
      "cell_type": "markdown",
      "metadata": {
        "id": "1U0VFy6HpS02"
      },
      "source": [
        "#Importing libraries"
      ]
    },
    {
      "cell_type": "code",
      "metadata": {
        "id": "snImS6Sa5kpr"
      },
      "source": [
        "#importing libraries\n",
        "import pandas as pd\n",
        "import numpy as np\n",
        "import matplotlib.pyplot as plt\n",
        "\n",
        "from sklearn.linear_model import LogisticRegression\n",
        "from sklearn.ensemble import AdaBoostClassifier, RandomForestClassifier, GradientBoostingClassifier\n",
        "from sklearn.metrics import roc_auc_score\n",
        "from sklearn.model_selection import train_test_split"
      ],
      "execution_count": 68,
      "outputs": []
    },
    {
      "cell_type": "markdown",
      "metadata": {
        "id": "1aipJScbpXTT"
      },
      "source": [
        "#Loading  & exploring the data"
      ]
    },
    {
      "cell_type": "code",
      "metadata": {
        "id": "Icc5nJIR6qyu"
      },
      "source": [
        "#Loading data\n",
        "data = pd.read_csv('https://raw.githubusercontent.com/datasciencedojo/datasets/master/titanic.csv')"
      ],
      "execution_count": 69,
      "outputs": []
    },
    {
      "cell_type": "code",
      "metadata": {
        "colab": {
          "base_uri": "https://localhost:8080/",
          "height": 204
        },
        "id": "0VGrCh-x7G6g",
        "outputId": "9e094d56-5c9d-4add-9cfa-a6ba43ad6878"
      },
      "source": [
        "#Checking data\n",
        "data.head()"
      ],
      "execution_count": 70,
      "outputs": [
        {
          "output_type": "execute_result",
          "data": {
            "text/html": [
              "<div>\n",
              "<style scoped>\n",
              "    .dataframe tbody tr th:only-of-type {\n",
              "        vertical-align: middle;\n",
              "    }\n",
              "\n",
              "    .dataframe tbody tr th {\n",
              "        vertical-align: top;\n",
              "    }\n",
              "\n",
              "    .dataframe thead th {\n",
              "        text-align: right;\n",
              "    }\n",
              "</style>\n",
              "<table border=\"1\" class=\"dataframe\">\n",
              "  <thead>\n",
              "    <tr style=\"text-align: right;\">\n",
              "      <th></th>\n",
              "      <th>PassengerId</th>\n",
              "      <th>Survived</th>\n",
              "      <th>Pclass</th>\n",
              "      <th>Name</th>\n",
              "      <th>Sex</th>\n",
              "      <th>Age</th>\n",
              "      <th>SibSp</th>\n",
              "      <th>Parch</th>\n",
              "      <th>Ticket</th>\n",
              "      <th>Fare</th>\n",
              "      <th>Cabin</th>\n",
              "      <th>Embarked</th>\n",
              "    </tr>\n",
              "  </thead>\n",
              "  <tbody>\n",
              "    <tr>\n",
              "      <th>0</th>\n",
              "      <td>1</td>\n",
              "      <td>0</td>\n",
              "      <td>3</td>\n",
              "      <td>Braund, Mr. Owen Harris</td>\n",
              "      <td>male</td>\n",
              "      <td>22.0</td>\n",
              "      <td>1</td>\n",
              "      <td>0</td>\n",
              "      <td>A/5 21171</td>\n",
              "      <td>7.2500</td>\n",
              "      <td>NaN</td>\n",
              "      <td>S</td>\n",
              "    </tr>\n",
              "    <tr>\n",
              "      <th>1</th>\n",
              "      <td>2</td>\n",
              "      <td>1</td>\n",
              "      <td>1</td>\n",
              "      <td>Cumings, Mrs. John Bradley (Florence Briggs Th...</td>\n",
              "      <td>female</td>\n",
              "      <td>38.0</td>\n",
              "      <td>1</td>\n",
              "      <td>0</td>\n",
              "      <td>PC 17599</td>\n",
              "      <td>71.2833</td>\n",
              "      <td>C85</td>\n",
              "      <td>C</td>\n",
              "    </tr>\n",
              "    <tr>\n",
              "      <th>2</th>\n",
              "      <td>3</td>\n",
              "      <td>1</td>\n",
              "      <td>3</td>\n",
              "      <td>Heikkinen, Miss. Laina</td>\n",
              "      <td>female</td>\n",
              "      <td>26.0</td>\n",
              "      <td>0</td>\n",
              "      <td>0</td>\n",
              "      <td>STON/O2. 3101282</td>\n",
              "      <td>7.9250</td>\n",
              "      <td>NaN</td>\n",
              "      <td>S</td>\n",
              "    </tr>\n",
              "    <tr>\n",
              "      <th>3</th>\n",
              "      <td>4</td>\n",
              "      <td>1</td>\n",
              "      <td>1</td>\n",
              "      <td>Futrelle, Mrs. Jacques Heath (Lily May Peel)</td>\n",
              "      <td>female</td>\n",
              "      <td>35.0</td>\n",
              "      <td>1</td>\n",
              "      <td>0</td>\n",
              "      <td>113803</td>\n",
              "      <td>53.1000</td>\n",
              "      <td>C123</td>\n",
              "      <td>S</td>\n",
              "    </tr>\n",
              "    <tr>\n",
              "      <th>4</th>\n",
              "      <td>5</td>\n",
              "      <td>0</td>\n",
              "      <td>3</td>\n",
              "      <td>Allen, Mr. William Henry</td>\n",
              "      <td>male</td>\n",
              "      <td>35.0</td>\n",
              "      <td>0</td>\n",
              "      <td>0</td>\n",
              "      <td>373450</td>\n",
              "      <td>8.0500</td>\n",
              "      <td>NaN</td>\n",
              "      <td>S</td>\n",
              "    </tr>\n",
              "  </tbody>\n",
              "</table>\n",
              "</div>"
            ],
            "text/plain": [
              "   PassengerId  Survived  Pclass  ...     Fare Cabin  Embarked\n",
              "0            1         0       3  ...   7.2500   NaN         S\n",
              "1            2         1       1  ...  71.2833   C85         C\n",
              "2            3         1       3  ...   7.9250   NaN         S\n",
              "3            4         1       1  ...  53.1000  C123         S\n",
              "4            5         0       3  ...   8.0500   NaN         S\n",
              "\n",
              "[5 rows x 12 columns]"
            ]
          },
          "metadata": {
            "tags": []
          },
          "execution_count": 70
        }
      ]
    },
    {
      "cell_type": "code",
      "metadata": {
        "colab": {
          "base_uri": "https://localhost:8080/"
        },
        "id": "TkFNwhuK74mB",
        "outputId": "c98f27ff-ddb9-4a19-b5cd-7d70ce63f1ef"
      },
      "source": [
        "#Checking the shape of the data\n",
        "data.shape"
      ],
      "execution_count": 71,
      "outputs": [
        {
          "output_type": "execute_result",
          "data": {
            "text/plain": [
              "(891, 12)"
            ]
          },
          "metadata": {
            "tags": []
          },
          "execution_count": 71
        }
      ]
    },
    {
      "cell_type": "code",
      "metadata": {
        "colab": {
          "base_uri": "https://localhost:8080/"
        },
        "id": "CJFehlNv7ZhU",
        "outputId": "97a1f18e-f456-4950-fecc-d1d82d8b784f"
      },
      "source": [
        "#Extracting count of unique values in the data\n",
        "for i in data.columns:\n",
        "  print(f'{i:{15}} {len(data[i].unique())}')"
      ],
      "execution_count": 72,
      "outputs": [
        {
          "output_type": "stream",
          "text": [
            "PassengerId     891\n",
            "Survived        2\n",
            "Pclass          3\n",
            "Name            891\n",
            "Sex             2\n",
            "Age             89\n",
            "SibSp           7\n",
            "Parch           7\n",
            "Ticket          681\n",
            "Fare            248\n",
            "Cabin           148\n",
            "Embarked        4\n"
          ],
          "name": "stdout"
        }
      ]
    },
    {
      "cell_type": "markdown",
      "metadata": {
        "id": "lfRLdm3W80OZ"
      },
      "source": [
        "We will create a data with two features Cabin and Sex."
      ]
    },
    {
      "cell_type": "markdown",
      "metadata": {
        "id": "iZoTOgrSpR2H"
      },
      "source": [
        "#Creating new data with two features Cabin and Sex"
      ]
    },
    {
      "cell_type": "code",
      "metadata": {
        "colab": {
          "base_uri": "https://localhost:8080/",
          "height": 419
        },
        "id": "GFahePNg72GK",
        "outputId": "404ad3e9-7c0b-4c29-a331-1be537b390b1"
      },
      "source": [
        "#Creating new data with variable Cabin & Sex\n",
        "data1 = data[['Cabin', 'Sex']]\n",
        "data1"
      ],
      "execution_count": 73,
      "outputs": [
        {
          "output_type": "execute_result",
          "data": {
            "text/html": [
              "<div>\n",
              "<style scoped>\n",
              "    .dataframe tbody tr th:only-of-type {\n",
              "        vertical-align: middle;\n",
              "    }\n",
              "\n",
              "    .dataframe tbody tr th {\n",
              "        vertical-align: top;\n",
              "    }\n",
              "\n",
              "    .dataframe thead th {\n",
              "        text-align: right;\n",
              "    }\n",
              "</style>\n",
              "<table border=\"1\" class=\"dataframe\">\n",
              "  <thead>\n",
              "    <tr style=\"text-align: right;\">\n",
              "      <th></th>\n",
              "      <th>Cabin</th>\n",
              "      <th>Sex</th>\n",
              "    </tr>\n",
              "  </thead>\n",
              "  <tbody>\n",
              "    <tr>\n",
              "      <th>0</th>\n",
              "      <td>NaN</td>\n",
              "      <td>male</td>\n",
              "    </tr>\n",
              "    <tr>\n",
              "      <th>1</th>\n",
              "      <td>C85</td>\n",
              "      <td>female</td>\n",
              "    </tr>\n",
              "    <tr>\n",
              "      <th>2</th>\n",
              "      <td>NaN</td>\n",
              "      <td>female</td>\n",
              "    </tr>\n",
              "    <tr>\n",
              "      <th>3</th>\n",
              "      <td>C123</td>\n",
              "      <td>female</td>\n",
              "    </tr>\n",
              "    <tr>\n",
              "      <th>4</th>\n",
              "      <td>NaN</td>\n",
              "      <td>male</td>\n",
              "    </tr>\n",
              "    <tr>\n",
              "      <th>...</th>\n",
              "      <td>...</td>\n",
              "      <td>...</td>\n",
              "    </tr>\n",
              "    <tr>\n",
              "      <th>886</th>\n",
              "      <td>NaN</td>\n",
              "      <td>male</td>\n",
              "    </tr>\n",
              "    <tr>\n",
              "      <th>887</th>\n",
              "      <td>B42</td>\n",
              "      <td>female</td>\n",
              "    </tr>\n",
              "    <tr>\n",
              "      <th>888</th>\n",
              "      <td>NaN</td>\n",
              "      <td>female</td>\n",
              "    </tr>\n",
              "    <tr>\n",
              "      <th>889</th>\n",
              "      <td>C148</td>\n",
              "      <td>male</td>\n",
              "    </tr>\n",
              "    <tr>\n",
              "      <th>890</th>\n",
              "      <td>NaN</td>\n",
              "      <td>male</td>\n",
              "    </tr>\n",
              "  </tbody>\n",
              "</table>\n",
              "<p>891 rows × 2 columns</p>\n",
              "</div>"
            ],
            "text/plain": [
              "    Cabin     Sex\n",
              "0     NaN    male\n",
              "1     C85  female\n",
              "2     NaN  female\n",
              "3    C123  female\n",
              "4     NaN    male\n",
              "..    ...     ...\n",
              "886   NaN    male\n",
              "887   B42  female\n",
              "888   NaN  female\n",
              "889  C148    male\n",
              "890   NaN    male\n",
              "\n",
              "[891 rows x 2 columns]"
            ]
          },
          "metadata": {
            "tags": []
          },
          "execution_count": 73
        }
      ]
    },
    {
      "cell_type": "markdown",
      "metadata": {
        "id": "NRXXaGvop0Ui"
      },
      "source": [
        "#Feature Engineering on Cabin feature"
      ]
    },
    {
      "cell_type": "code",
      "metadata": {
        "colab": {
          "base_uri": "https://localhost:8080/"
        },
        "id": "IshHQR6N8S9E",
        "outputId": "15bb7d3d-286f-4cdc-8a66-d036439aed72"
      },
      "source": [
        "#Extracting first alphabets from each labels\n",
        "data1['Cabin'].str.slice(0,1).unique()"
      ],
      "execution_count": 74,
      "outputs": [
        {
          "output_type": "execute_result",
          "data": {
            "text/plain": [
              "array([nan, 'C', 'E', 'G', 'D', 'A', 'B', 'F', 'T'], dtype=object)"
            ]
          },
          "metadata": {
            "tags": []
          },
          "execution_count": 74
        }
      ]
    },
    {
      "cell_type": "code",
      "metadata": {
        "colab": {
          "base_uri": "https://localhost:8080/"
        },
        "id": "vhHzEhW9BsID",
        "outputId": "ae2f5707-8b66-4b04-d385-fc9cf77d652e"
      },
      "source": [
        "#Replacing missing value with 'n'\n",
        "data1['Cabin'].str.slice(0,1).fillna('n').unique()"
      ],
      "execution_count": 75,
      "outputs": [
        {
          "output_type": "execute_result",
          "data": {
            "text/plain": [
              "array(['n', 'C', 'E', 'G', 'D', 'A', 'B', 'F', 'T'], dtype=object)"
            ]
          },
          "metadata": {
            "tags": []
          },
          "execution_count": 75
        }
      ]
    },
    {
      "cell_type": "code",
      "metadata": {
        "colab": {
          "base_uri": "https://localhost:8080/"
        },
        "id": "QjOob3DACbGp",
        "outputId": "fd14ed30-afcf-402d-f9be-cfc55e6ddaf6"
      },
      "source": [
        "#Creating feature Cabin reduced\n",
        "data1['Cabin_reduced'] = data1['Cabin'].str.slice(0,1).fillna('n')"
      ],
      "execution_count": 76,
      "outputs": [
        {
          "output_type": "stream",
          "text": [
            "/usr/local/lib/python3.7/dist-packages/ipykernel_launcher.py:2: SettingWithCopyWarning: \n",
            "A value is trying to be set on a copy of a slice from a DataFrame.\n",
            "Try using .loc[row_indexer,col_indexer] = value instead\n",
            "\n",
            "See the caveats in the documentation: https://pandas.pydata.org/pandas-docs/stable/user_guide/indexing.html#returning-a-view-versus-a-copy\n",
            "  \n"
          ],
          "name": "stderr"
        }
      ]
    },
    {
      "cell_type": "code",
      "metadata": {
        "colab": {
          "base_uri": "https://localhost:8080/",
          "height": 204
        },
        "id": "2omsZsRWFJCv",
        "outputId": "2136ccc4-97a0-4771-c782-a601137dda88"
      },
      "source": [
        "#Checking data\n",
        "data1.head()"
      ],
      "execution_count": 77,
      "outputs": [
        {
          "output_type": "execute_result",
          "data": {
            "text/html": [
              "<div>\n",
              "<style scoped>\n",
              "    .dataframe tbody tr th:only-of-type {\n",
              "        vertical-align: middle;\n",
              "    }\n",
              "\n",
              "    .dataframe tbody tr th {\n",
              "        vertical-align: top;\n",
              "    }\n",
              "\n",
              "    .dataframe thead th {\n",
              "        text-align: right;\n",
              "    }\n",
              "</style>\n",
              "<table border=\"1\" class=\"dataframe\">\n",
              "  <thead>\n",
              "    <tr style=\"text-align: right;\">\n",
              "      <th></th>\n",
              "      <th>Cabin</th>\n",
              "      <th>Sex</th>\n",
              "      <th>Cabin_reduced</th>\n",
              "    </tr>\n",
              "  </thead>\n",
              "  <tbody>\n",
              "    <tr>\n",
              "      <th>0</th>\n",
              "      <td>NaN</td>\n",
              "      <td>male</td>\n",
              "      <td>n</td>\n",
              "    </tr>\n",
              "    <tr>\n",
              "      <th>1</th>\n",
              "      <td>C85</td>\n",
              "      <td>female</td>\n",
              "      <td>C</td>\n",
              "    </tr>\n",
              "    <tr>\n",
              "      <th>2</th>\n",
              "      <td>NaN</td>\n",
              "      <td>female</td>\n",
              "      <td>n</td>\n",
              "    </tr>\n",
              "    <tr>\n",
              "      <th>3</th>\n",
              "      <td>C123</td>\n",
              "      <td>female</td>\n",
              "      <td>C</td>\n",
              "    </tr>\n",
              "    <tr>\n",
              "      <th>4</th>\n",
              "      <td>NaN</td>\n",
              "      <td>male</td>\n",
              "      <td>n</td>\n",
              "    </tr>\n",
              "  </tbody>\n",
              "</table>\n",
              "</div>"
            ],
            "text/plain": [
              "  Cabin     Sex Cabin_reduced\n",
              "0   NaN    male             n\n",
              "1   C85  female             C\n",
              "2   NaN  female             n\n",
              "3  C123  female             C\n",
              "4   NaN    male             n"
            ]
          },
          "metadata": {
            "tags": []
          },
          "execution_count": 77
        }
      ]
    },
    {
      "cell_type": "code",
      "metadata": {
        "colab": {
          "base_uri": "https://localhost:8080/"
        },
        "id": "glmcqbhNaUUs",
        "outputId": "3d4da774-198a-4bfa-99c8-9cd5f6759f63"
      },
      "source": [
        "#Extracting count of unique values in the data\n",
        "for i in data1.columns:\n",
        "  print(f'{i:{15}} {len(data1[i].unique())}')"
      ],
      "execution_count": 78,
      "outputs": [
        {
          "output_type": "stream",
          "text": [
            "Cabin           148\n",
            "Sex             2\n",
            "Cabin_reduced   9\n"
          ],
          "name": "stdout"
        }
      ]
    },
    {
      "cell_type": "markdown",
      "metadata": {
        "id": "zRCNLZSKqDIV"
      },
      "source": [
        "We have reduced the labels from 149 to 9 in Cabin feature and create a new feature"
      ]
    },
    {
      "cell_type": "markdown",
      "metadata": {
        "id": "4dW50XHfqW2W"
      },
      "source": [
        "#Splitting data into train and test"
      ]
    },
    {
      "cell_type": "code",
      "metadata": {
        "colab": {
          "base_uri": "https://localhost:8080/"
        },
        "id": "K-YKMd2uaq0P",
        "outputId": "dc31b9d3-c455-495a-826e-6c3b475f2c41"
      },
      "source": [
        "#Spliting data into train and test\n",
        "X_train, X_test, y_train, y_test = train_test_split(data1,\n",
        "                                                    data['Survived'],\n",
        "                                                    test_size = 0.4,\n",
        "                                                    random_state = 0)\n",
        "X_train.shape, X_test.shape, y_train.shape, y_test.shape"
      ],
      "execution_count": 79,
      "outputs": [
        {
          "output_type": "execute_result",
          "data": {
            "text/plain": [
              "((534, 3), (357, 3), (534,), (357,))"
            ]
          },
          "metadata": {
            "tags": []
          },
          "execution_count": 79
        }
      ]
    },
    {
      "cell_type": "markdown",
      "metadata": {
        "id": "FfxIesHsvGs7"
      },
      "source": [
        "#Checking missing values in X_train and X_test"
      ]
    },
    {
      "cell_type": "code",
      "metadata": {
        "colab": {
          "base_uri": "https://localhost:8080/"
        },
        "id": "bb8LGe0wiB95",
        "outputId": "6872c998-df17-4d83-80a6-b9cb88a13d14"
      },
      "source": [
        "#Checking missing values in X_train\n",
        "X_train.isnull().sum()"
      ],
      "execution_count": 80,
      "outputs": [
        {
          "output_type": "execute_result",
          "data": {
            "text/plain": [
              "Cabin            407\n",
              "Sex                0\n",
              "Cabin_reduced      0\n",
              "dtype: int64"
            ]
          },
          "metadata": {
            "tags": []
          },
          "execution_count": 80
        }
      ]
    },
    {
      "cell_type": "code",
      "metadata": {
        "colab": {
          "base_uri": "https://localhost:8080/"
        },
        "id": "3ZI-mP6ZiCAj",
        "outputId": "9e5e76b2-c5ec-4433-a085-764a360b9bd8"
      },
      "source": [
        "#Checking missing values in X_test\n",
        "X_test.isnull().sum()"
      ],
      "execution_count": 81,
      "outputs": [
        {
          "output_type": "execute_result",
          "data": {
            "text/plain": [
              "Cabin            280\n",
              "Sex                0\n",
              "Cabin_reduced      0\n",
              "dtype: int64"
            ]
          },
          "metadata": {
            "tags": []
          },
          "execution_count": 81
        }
      ]
    },
    {
      "cell_type": "code",
      "metadata": {
        "colab": {
          "base_uri": "https://localhost:8080/"
        },
        "id": "0xf1OVJyiCDa",
        "outputId": "7f48c16d-3c5c-43ea-ccb4-c4db9ca29db4"
      },
      "source": [
        "#Replacing missing values\n",
        "X_train.fillna('0', inplace = True)\n",
        "X_test.fillna('0', inplace = True)"
      ],
      "execution_count": 82,
      "outputs": [
        {
          "output_type": "stream",
          "text": [
            "/usr/local/lib/python3.7/dist-packages/pandas/core/frame.py:4327: SettingWithCopyWarning: \n",
            "A value is trying to be set on a copy of a slice from a DataFrame\n",
            "\n",
            "See the caveats in the documentation: https://pandas.pydata.org/pandas-docs/stable/user_guide/indexing.html#returning-a-view-versus-a-copy\n",
            "  downcast=downcast,\n"
          ],
          "name": "stderr"
        }
      ]
    },
    {
      "cell_type": "code",
      "metadata": {
        "colab": {
          "base_uri": "https://localhost:8080/"
        },
        "id": "rV1jp1COiCGP",
        "outputId": "c84f2885-05f4-497a-b799-9aff075ef2b4"
      },
      "source": [
        "#Checking missing values\n",
        "print(X_train.isnull().sum())\n",
        "print(X_test.isnull().sum())"
      ],
      "execution_count": 83,
      "outputs": [
        {
          "output_type": "stream",
          "text": [
            "Cabin            0\n",
            "Sex              0\n",
            "Cabin_reduced    0\n",
            "dtype: int64\n",
            "Cabin            0\n",
            "Sex              0\n",
            "Cabin_reduced    0\n",
            "dtype: int64\n"
          ],
          "name": "stdout"
        }
      ]
    },
    {
      "cell_type": "markdown",
      "metadata": {
        "id": "CulJ8yRfviQi"
      },
      "source": [
        "#Creating dummy variables"
      ]
    },
    {
      "cell_type": "code",
      "metadata": {
        "colab": {
          "base_uri": "https://localhost:8080/",
          "height": 205
        },
        "id": "skY1YtuSvpZU",
        "outputId": "413ad999-e7ae-42e2-ce67-98ab566742f0"
      },
      "source": [
        "#Checking data\n",
        "display(X_train.head(2))\n",
        "display(X_test.head(2))"
      ],
      "execution_count": 84,
      "outputs": [
        {
          "output_type": "display_data",
          "data": {
            "text/html": [
              "<div>\n",
              "<style scoped>\n",
              "    .dataframe tbody tr th:only-of-type {\n",
              "        vertical-align: middle;\n",
              "    }\n",
              "\n",
              "    .dataframe tbody tr th {\n",
              "        vertical-align: top;\n",
              "    }\n",
              "\n",
              "    .dataframe thead th {\n",
              "        text-align: right;\n",
              "    }\n",
              "</style>\n",
              "<table border=\"1\" class=\"dataframe\">\n",
              "  <thead>\n",
              "    <tr style=\"text-align: right;\">\n",
              "      <th></th>\n",
              "      <th>Cabin</th>\n",
              "      <th>Sex</th>\n",
              "      <th>Cabin_reduced</th>\n",
              "    </tr>\n",
              "  </thead>\n",
              "  <tbody>\n",
              "    <tr>\n",
              "      <th>100</th>\n",
              "      <td>0</td>\n",
              "      <td>female</td>\n",
              "      <td>n</td>\n",
              "    </tr>\n",
              "    <tr>\n",
              "      <th>722</th>\n",
              "      <td>0</td>\n",
              "      <td>male</td>\n",
              "      <td>n</td>\n",
              "    </tr>\n",
              "  </tbody>\n",
              "</table>\n",
              "</div>"
            ],
            "text/plain": [
              "    Cabin     Sex Cabin_reduced\n",
              "100     0  female             n\n",
              "722     0    male             n"
            ]
          },
          "metadata": {
            "tags": []
          }
        },
        {
          "output_type": "display_data",
          "data": {
            "text/html": [
              "<div>\n",
              "<style scoped>\n",
              "    .dataframe tbody tr th:only-of-type {\n",
              "        vertical-align: middle;\n",
              "    }\n",
              "\n",
              "    .dataframe tbody tr th {\n",
              "        vertical-align: top;\n",
              "    }\n",
              "\n",
              "    .dataframe thead th {\n",
              "        text-align: right;\n",
              "    }\n",
              "</style>\n",
              "<table border=\"1\" class=\"dataframe\">\n",
              "  <thead>\n",
              "    <tr style=\"text-align: right;\">\n",
              "      <th></th>\n",
              "      <th>Cabin</th>\n",
              "      <th>Sex</th>\n",
              "      <th>Cabin_reduced</th>\n",
              "    </tr>\n",
              "  </thead>\n",
              "  <tbody>\n",
              "    <tr>\n",
              "      <th>495</th>\n",
              "      <td>0</td>\n",
              "      <td>male</td>\n",
              "      <td>n</td>\n",
              "    </tr>\n",
              "    <tr>\n",
              "      <th>648</th>\n",
              "      <td>0</td>\n",
              "      <td>male</td>\n",
              "      <td>n</td>\n",
              "    </tr>\n",
              "  </tbody>\n",
              "</table>\n",
              "</div>"
            ],
            "text/plain": [
              "    Cabin   Sex Cabin_reduced\n",
              "495     0  male             n\n",
              "648     0  male             n"
            ]
          },
          "metadata": {
            "tags": []
          }
        }
      ]
    },
    {
      "cell_type": "code",
      "metadata": {
        "colab": {
          "base_uri": "https://localhost:8080/"
        },
        "id": "qB3B366xiCJA",
        "outputId": "7674a8ff-4079-4761-e92d-853f9083c730"
      },
      "source": [
        "#Creating dummies variables from Cabin & Sex features\n",
        "train = pd.get_dummies(X_train[['Cabin','Sex']], columns = ['Cabin','Sex'])\n",
        "test = pd.get_dummies(X_test[['Cabin','Sex']], columns = ['Cabin','Sex'])\n",
        "train.shape, test.shape"
      ],
      "execution_count": 85,
      "outputs": [
        {
          "output_type": "execute_result",
          "data": {
            "text/plain": [
              "((534, 106), (357, 71))"
            ]
          },
          "metadata": {
            "tags": []
          },
          "execution_count": 85
        }
      ]
    },
    {
      "cell_type": "markdown",
      "metadata": {
        "id": "Aq6UqHam9tIb"
      },
      "source": [
        "We have 106 features in train and 71 features in test"
      ]
    },
    {
      "cell_type": "markdown",
      "metadata": {
        "id": "zOAM-ITZwV33"
      },
      "source": [
        "#Identifying features have in train dataset but not have in test dataset"
      ]
    },
    {
      "cell_type": "code",
      "metadata": {
        "colab": {
          "base_uri": "https://localhost:8080/"
        },
        "id": "7PrlDOvmjHH7",
        "outputId": "9f07aa7d-7514-4a12-d6ef-94ee9722e5ec"
      },
      "source": [
        "#Extracting the columns have in train but not have in test\n",
        "missing_cols = set(train.columns)-set(test.columns)\n",
        "len(missing_cols)"
      ],
      "execution_count": 86,
      "outputs": [
        {
          "output_type": "execute_result",
          "data": {
            "text/plain": [
              "79"
            ]
          },
          "metadata": {
            "tags": []
          },
          "execution_count": 86
        }
      ]
    },
    {
      "cell_type": "markdown",
      "metadata": {
        "id": "uqaAtcGy_WZ6"
      },
      "source": [
        "79 features not have in test data set"
      ]
    },
    {
      "cell_type": "markdown",
      "metadata": {
        "id": "OPpFaOZU_ZZN"
      },
      "source": [
        "# Adding 79 features in test dataset"
      ]
    },
    {
      "cell_type": "code",
      "metadata": {
        "id": "o44neg9hkNTK"
      },
      "source": [
        "#Adding those 79 columns not in test with 0 values\n",
        "for i in missing_cols:\n",
        "  test[i]=0"
      ],
      "execution_count": 87,
      "outputs": []
    },
    {
      "cell_type": "code",
      "metadata": {
        "colab": {
          "base_uri": "https://localhost:8080/"
        },
        "id": "EqmNoDMDw7t4",
        "outputId": "088130bb-ab27-4f99-ed85-0963969a49d7"
      },
      "source": [
        "#Checking data shape\n",
        "train.shape, test.shape"
      ],
      "execution_count": 90,
      "outputs": [
        {
          "output_type": "execute_result",
          "data": {
            "text/plain": [
              "((534, 106), (357, 150))"
            ]
          },
          "metadata": {
            "tags": []
          },
          "execution_count": 90
        }
      ]
    },
    {
      "cell_type": "markdown",
      "metadata": {
        "id": "88yuGxxG-tOe"
      },
      "source": [
        "After adding 79 features in test now We have 106 features in train and 150 features in test. However, both the train and test imbalance features. "
      ]
    },
    {
      "cell_type": "markdown",
      "metadata": {
        "id": "zHz7hkJo_vB0"
      },
      "source": [
        "#Features balancing in test data"
      ]
    },
    {
      "cell_type": "code",
      "metadata": {
        "id": "VvwXS9kVkgzh"
      },
      "source": [
        "#Changing the test \n",
        "test = test[train.columns]"
      ],
      "execution_count": 91,
      "outputs": []
    },
    {
      "cell_type": "code",
      "metadata": {
        "colab": {
          "base_uri": "https://localhost:8080/"
        },
        "id": "LGb7RQ46kuOt",
        "outputId": "380df754-3ccf-463b-bc63-ab3b3c0fb886"
      },
      "source": [
        "#Checking the shape of the data\n",
        "train.shape, test.shape"
      ],
      "execution_count": 92,
      "outputs": [
        {
          "output_type": "execute_result",
          "data": {
            "text/plain": [
              "((534, 106), (357, 106))"
            ]
          },
          "metadata": {
            "tags": []
          },
          "execution_count": 92
        }
      ]
    },
    {
      "cell_type": "markdown",
      "metadata": {
        "id": "ncPo62cZ_0wa"
      },
      "source": [
        "Now We have balanced features"
      ]
    },
    {
      "cell_type": "markdown",
      "metadata": {
        "id": "q07Zpf5s_554"
      },
      "source": [
        "# Creating Random Forest Model"
      ]
    },
    {
      "cell_type": "code",
      "metadata": {
        "colab": {
          "base_uri": "https://localhost:8080/"
        },
        "id": "o-rJSl_8ky5b",
        "outputId": "5e87664c-cdba-44b3-ddec-728bc20cee5f"
      },
      "source": [
        "#Performing random classifier\n",
        "clf = RandomForestClassifier(n_estimators=200, random_state=42)\n",
        "clf.fit(train, y_train)"
      ],
      "execution_count": 93,
      "outputs": [
        {
          "output_type": "execute_result",
          "data": {
            "text/plain": [
              "RandomForestClassifier(bootstrap=True, ccp_alpha=0.0, class_weight=None,\n",
              "                       criterion='gini', max_depth=None, max_features='auto',\n",
              "                       max_leaf_nodes=None, max_samples=None,\n",
              "                       min_impurity_decrease=0.0, min_impurity_split=None,\n",
              "                       min_samples_leaf=1, min_samples_split=2,\n",
              "                       min_weight_fraction_leaf=0.0, n_estimators=200,\n",
              "                       n_jobs=None, oob_score=False, random_state=42, verbose=0,\n",
              "                       warm_start=False)"
            ]
          },
          "metadata": {
            "tags": []
          },
          "execution_count": 93
        }
      ]
    },
    {
      "cell_type": "code",
      "metadata": {
        "id": "vUIMwOo-lAp-"
      },
      "source": [
        "#Prediction on the model\n",
        "y_train_pred = clf.predict_proba(train)\n",
        "y_test_pred = clf.predict_proba(test)"
      ],
      "execution_count": 61,
      "outputs": []
    },
    {
      "cell_type": "code",
      "metadata": {
        "colab": {
          "base_uri": "https://localhost:8080/"
        },
        "id": "pjb6WzhIlPxN",
        "outputId": "ae5bd56f-cf6a-4e50-c041-2b3701f27195"
      },
      "source": [
        "#Checking the data\n",
        "y_train_pred"
      ],
      "execution_count": 94,
      "outputs": [
        {
          "output_type": "execute_result",
          "data": {
            "text/plain": [
              "array([[0.3296787 , 0.6703213 ],\n",
              "       [0.86457227, 0.13542773],\n",
              "       [0.3296787 , 0.6703213 ],\n",
              "       ...,\n",
              "       [0.86457227, 0.13542773],\n",
              "       [0.3296787 , 0.6703213 ],\n",
              "       [0.86457227, 0.13542773]])"
            ]
          },
          "metadata": {
            "tags": []
          },
          "execution_count": 94
        }
      ]
    },
    {
      "cell_type": "code",
      "metadata": {
        "colab": {
          "base_uri": "https://localhost:8080/"
        },
        "id": "SipEvLUQlVmX",
        "outputId": "985e87e4-d828-4d08-a9a7-cf1aca41a383"
      },
      "source": [
        "#Checking ROC AUC score\n",
        "print('Train set')\n",
        "print('{} roc auc:{}'.format('Random Forest', roc_auc_score(y_train, y_train_pred[:,1])))\n",
        "\n",
        "print('Test set')\n",
        "print('{} roc auc:{}'.format('Random Forest', roc_auc_score(y_test, y_test_pred[:,1])))"
      ],
      "execution_count": 95,
      "outputs": [
        {
          "output_type": "stream",
          "text": [
            "Train set\n",
            "Random Forest roc auc:0.8729650130239166\n",
            "Test set\n",
            "Random Forest roc auc:0.8261744743146127\n"
          ],
          "name": "stdout"
        }
      ]
    },
    {
      "cell_type": "markdown",
      "metadata": {
        "id": "ev1lAhymAEQS"
      },
      "source": [
        "We got ROC auc 87% from training set and 82% from testing set. It shows model performed underfitting by 5%."
      ]
    },
    {
      "cell_type": "markdown",
      "metadata": {
        "id": "vpEUOW4-AZCi"
      },
      "source": [
        "#Performing difference ML techniques on the data with Cabin and Sex features and comparing the performance through ROC AUC Score "
      ]
    },
    {
      "cell_type": "code",
      "metadata": {
        "id": "8BjXgudRmCSM"
      },
      "source": [
        "#Creating function\n",
        "def run_model(data_train, data_test, y_train, y_test):\n",
        "  #1. Taking 4 different ML techniques#################################################################################################################  \n",
        "  rf = RandomForestClassifier(n_estimators=200, random_state=42)\n",
        "  ada = AdaBoostClassifier(n_estimators=200, random_state=42)\n",
        "  logit = LogisticRegression(solver='lbfgs', random_state=42)\n",
        "  gbc = GradientBoostingClassifier(n_estimators=300, random_state=42)\n",
        "\n",
        "  #2. Creating text name of the model################################################################################################################### \n",
        "  model = {'Random Forest':rf, 'AdaBoost':ada, 'Logistic Regression':logit, 'Gradient Boosting':gbc}\n",
        "\n",
        "  #3. Creating dummy variables ######################################################################################################################### \n",
        "  train = pd.get_dummies(data_train, columns=data_train.columns)\n",
        "  test = pd.get_dummies(data_test, columns=data_test.columns)\n",
        "\n",
        "  #4. Extracting missing features have in training set but not have in testing set######################################################################\n",
        "  missing_cols = set(train.columns)-set(test.columns)\n",
        "\n",
        "  #5. Adding missing features in testing set############################################################################################################\n",
        "  for i in missing_cols:\n",
        "    test[i]=0\n",
        "  \n",
        "  #6. Balancing the features in testing set#############################################################################################################\n",
        "  test = test[train.columns]\n",
        "\n",
        "  #7. Training a model, prediting on train and test data################################################################################################ \n",
        "  for label, clf in model.items():\n",
        "    clf.fit(train, y_train)#Training a model\n",
        "    y_train_pred = clf.predict_proba(train)#Prediction on the train data\n",
        "    y_test_pred = clf.predict_proba(test)#Prediction on the test data\n",
        "\n",
        "  #8. Extracting ROC and AUC score on difference models\n",
        "    print('Testing for', label)\n",
        "    print('Train roc_auc:{}'.format(roc_auc_score(y_train, y_train_pred[:,1])))\n",
        "    print('Test roc_auc:{}'.format(roc_auc_score(y_test, y_test_pred[:,1])))\n",
        "    print()"
      ],
      "execution_count": 97,
      "outputs": []
    },
    {
      "cell_type": "code",
      "metadata": {
        "colab": {
          "base_uri": "https://localhost:8080/"
        },
        "id": "z7z4ZWJWoYNJ",
        "outputId": "64a96570-1e47-4169-b5ad-9e9e8f84fdfb"
      },
      "source": [
        "#Extracting ROC and AUC score on difference models\n",
        "cols = ['Cabin', 'Sex']\n",
        "run_model(X_train[cols], X_test[cols], y_train, y_test)"
      ],
      "execution_count": 98,
      "outputs": [
        {
          "output_type": "stream",
          "text": [
            "Testing for Random Forest\n",
            "Train roc_auc:0.8729650130239166\n",
            "Test roc_auc:0.8261744743146127\n",
            "\n",
            "Testing for AdaBoost\n",
            "Train roc_auc:0.8699310324413924\n",
            "Test roc_auc:0.7899254724514241\n",
            "\n",
            "Testing for Logistic Regression\n",
            "Train roc_auc:0.8328572697134738\n",
            "Test roc_auc:0.819204152249135\n",
            "\n",
            "Testing for Gradient Boosting\n",
            "Train roc_auc:0.8743858039308549\n",
            "Test roc_auc:0.8247604471652914\n",
            "\n"
          ],
          "name": "stdout"
        }
      ]
    },
    {
      "cell_type": "markdown",
      "metadata": {
        "id": "xM4-hNZGCl2G"
      },
      "source": [
        "Most of the models performed underfitting"
      ]
    },
    {
      "cell_type": "markdown",
      "metadata": {
        "id": "ZJmWxRbJC6Nx"
      },
      "source": [
        "# Performing difference ML techniques on the data with Cabin_reduced and Sex features and comparing the performance through ROC AUC Score"
      ]
    },
    {
      "cell_type": "code",
      "metadata": {
        "colab": {
          "base_uri": "https://localhost:8080/"
        },
        "id": "idwu1OHjojmp",
        "outputId": "40d7deed-b995-4b70-b3ad-3b57830e735e"
      },
      "source": [
        "#Extracting ROC and AUC score on difference models\n",
        "cols = ['Cabin_reduced', 'Sex']\n",
        "run_model(X_train[cols], X_test[cols], y_train, y_test)"
      ],
      "execution_count": 99,
      "outputs": [
        {
          "output_type": "stream",
          "text": [
            "Testing for Random Forest\n",
            "Train roc_auc:0.8310812810798011\n",
            "Test roc_auc:0.8101377428799574\n",
            "\n",
            "Testing for AdaBoost\n",
            "Train roc_auc:0.8283284986976084\n",
            "Test roc_auc:0.8166589033803567\n",
            "\n",
            "Testing for Logistic Regression\n",
            "Train roc_auc:0.8274109045702107\n",
            "Test roc_auc:0.8159602076124568\n",
            "\n",
            "Testing for Gradient Boosting\n",
            "Train roc_auc:0.8310812810798011\n",
            "Test roc_auc:0.8101377428799574\n",
            "\n"
          ],
          "name": "stdout"
        }
      ]
    },
    {
      "cell_type": "markdown",
      "metadata": {
        "id": "foahgS5xDENJ"
      },
      "source": [
        "Most of the models performed well i.e. no overfitting and underfitting identified."
      ]
    }
  ]
}